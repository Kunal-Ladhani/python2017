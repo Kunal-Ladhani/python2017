{
 "cells": [
  {
   "cell_type": "code",
   "execution_count": null,
   "metadata": {
    "collapsed": true
   },
   "outputs": [],
   "source": [
    "# -----------------------------Question1------------------------------------\n",
    "def rev(str):\n",
    "    return ' '.join(str.split()[::-1])\n",
    "\n",
    "print(rev(\"My name is John\"))"
   ]
  },
  {
   "cell_type": "code",
   "execution_count": null,
   "metadata": {
    "collapsed": true
   },
   "outputs": [],
   "source": [
    "#------------------------Question2: One Liner---------------------------------\n",
    "print([\"Fizz\"*(not i%3) + \"Buzz\"*(not i%5) or i for i in range(1, 100)])"
   ]
  },
  {
   "cell_type": "code",
   "execution_count": null,
   "metadata": {
    "collapsed": true
   },
   "outputs": [],
   "source": [
    "# -----------------------------Question3------------------------------------\n",
    "set1 = set(input().split(','))\n",
    "set2 = set(input().split(','))\n",
    "\n",
    "print(set1.union(set2).difference(set1.intersection(set2)))"
   ]
  },
  {
   "cell_type": "code",
   "execution_count": null,
   "metadata": {
    "collapsed": true
   },
   "outputs": [],
   "source": [
    "#------------------------------Question4------------------------------------\n",
    "# This import statement is for plotting. You will need matplotlib installed.\n",
    "import matplotlib.pyplot as plt\n",
    "\n",
    "lst = [(1, 1), (2, 2), (3, 3), (4, 6)]\n",
    "n = len(lst)\n",
    "x_i = [lst[i][0] for i in range(n)]\n",
    "y_i = [lst[i][1] for i in range(n)]\n",
    "\n",
    "product_sum = sum([x_i[i] * y_i[i] for i in range(n)])\n",
    "x_sum = sum(x_i)\n",
    "y_sum = sum(y_i)\n",
    "x_squared_sum = sum([x_coord**2 for x_coord in x_i])\n",
    "\n",
    "denom = n * x_squared_sum - x_sum ** 2\n",
    "\n",
    "if denom != 0:\n",
    "    slope = (n * product_sum - x_sum * y_sum) / denom\n",
    "    y_intercept = y_sum / n - slope * x_sum / n\n",
    "    best_fit_y = [slope * x + y_intercept for x in x_i]\n",
    "    print(\"The best fit line is : \", \" y = \", slope, \"x + \", y_intercept)\n",
    "else:\n",
    "    x_mean = x_sum / n\n",
    "    best_fit_y = [y for y in y_i]\n",
    "    print(\"The best fit line is : \", \" x = \", x_mean)\n",
    "\n",
    "# This is for plotting, you needn't understand this as of now.\n",
    "\n",
    "plt.plot(x_i, best_fit_y, '--')\n",
    "plt.plot(x_i, y_i, 'ro')\n",
    "plt.show()"
   ]
  },
  {
   "cell_type": "code",
   "execution_count": null,
   "metadata": {
    "collapsed": true
   },
   "outputs": [],
   "source": [
    "# Question 5\n",
    "\n",
    "#---------------Your code starts here --------------------\n",
    "    if ball_pos[1] <= BALL_RADIUS or ball_pos[1] >= (HEIGHT - 1 ) - BALL_RADIUS:\n",
    "        ball_vel[1] = -1 * ball_vel[1]\n",
    "    if ball_pos[0] <= BALL_RADIUS or ball_pos[0] >= (WIDTH - 1 ) - BALL_RADIUS:\n",
    "        ball_vel[0] = -1 * ball_vel[0]\n",
    "#---------------End of your code -------------------------\n"
   ]
  },
  {
   "cell_type": "code",
   "execution_count": null,
   "metadata": {
    "collapsed": true
   },
   "outputs": [],
   "source": [
    "#-------------------------------Bonus Question----------------------------\n",
    "import string\n",
    "from random import *\n",
    "characters = string.ascii_letters + string.punctuation  + string.digits\n",
    "password =  \"\".join(choice(characters) for x in range(randint(8, 16)))\n",
    "print (password)"
   ]
  }
 ],
 "metadata": {
  "kernelspec": {
   "display_name": "Python 3",
   "language": "python",
   "name": "python3"
  },
  "language_info": {
   "codemirror_mode": {
    "name": "ipython",
    "version": 3
   },
   "file_extension": ".py",
   "mimetype": "text/x-python",
   "name": "python",
   "nbconvert_exporter": "python",
   "pygments_lexer": "ipython3",
   "version": "3.5.2"
  }
 },
 "nbformat": 4,
 "nbformat_minor": 2
}
