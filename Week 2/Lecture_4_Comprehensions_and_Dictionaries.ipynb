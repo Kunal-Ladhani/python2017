{
 "cells": [
  {
   "cell_type": "markdown",
   "metadata": {
    "collapsed": true
   },
   "source": [
    "# Lecture 4\n",
    "\n",
    "### Topics to be covered today :\n",
    "\n",
    "    1. List Comprehensions\n",
    "    2. Dictionaries"
   ]
  },
  {
   "cell_type": "markdown",
   "metadata": {},
   "source": [
    "## List Comprehensions\n",
    "\n",
    "    List comprehensions in Python is a efficient and concise technique to transform one iterable to\n",
    "    another.\n",
    "    \n",
    "### From for loops to list comprehension\n",
    "    \n",
    "    Structure of a basic list comprehension : [new_value for value in list]\n",
    "    \n",
    "#### Examples :"
   ]
  },
  {
   "cell_type": "code",
   "execution_count": 2,
   "metadata": {},
   "outputs": [
    {
     "name": "stdout",
     "output_type": "stream",
     "text": [
      "[1, 4, 9, 16, 25]\n",
      "[1, 4, 9, 16, 25]\n"
     ]
    }
   ],
   "source": [
    "# For loop\n",
    "a = [1, 2, 3, 4, 5]\n",
    "\n",
    "b = []\n",
    "for i in a:\n",
    "    b.append(i**2)\n",
    "print(b)\n",
    "\n",
    "###############################################\n",
    "\n",
    "# Using list comprehension\n",
    "\n",
    "c = [value ** 2 for value in a]\n",
    "print(c)"
   ]
  },
  {
   "cell_type": "markdown",
   "metadata": {},
   "source": [
    "The new iterable needn't be a list"
   ]
  },
  {
   "cell_type": "code",
   "execution_count": 8,
   "metadata": {},
   "outputs": [
    {
     "name": "stdout",
     "output_type": "stream",
     "text": [
      "(1, 4, 9, 16, 25)\n",
      "{16, 1, 4, 9, 25}\n"
     ]
    }
   ],
   "source": [
    "c = tuple(value ** 2 for value in a)\n",
    "d = set(value **2 for value in a)\n",
    "print(c)\n",
    "print(d)"
   ]
  },
  {
   "cell_type": "markdown",
   "metadata": {},
   "source": [
    "To be technically correct, the above two are NOT comprehensions but something called [generator expressions](https://docs.python.org/2/reference/expressions.html#generator-expressions). But for all practical use you can think of them as unofficial tuple and set comprehension."
   ]
  },
  {
   "cell_type": "markdown",
   "metadata": {},
   "source": [
    "### Using conditional in list comprehension"
   ]
  },
  {
   "cell_type": "code",
   "execution_count": 17,
   "metadata": {},
   "outputs": [
    {
     "name": "stdout",
     "output_type": "stream",
     "text": [
      "[1, 1, 3, 5, 13, 21, 55, 89]\n",
      "[1, 1, 3, 5, 13, 21, 55, 89]\n"
     ]
    }
   ],
   "source": [
    "a = [0, 1, 1, 2, 3, 5, 8, 13, 21, 34, 55, 89]\n",
    "b = []\n",
    "\n",
    "for value in a:\n",
    "    if value % 2 == 1:\n",
    "        b.append(value)\n",
    "print(b)\n",
    "\n",
    "##############################################\n",
    "\n",
    "c = [value for value in a if value % 2 == 1]\n",
    "\n",
    "print(c)"
   ]
  },
  {
   "cell_type": "markdown",
   "metadata": {},
   "source": [
    "So other than it's elegance why do we need list comprehensions ? It's cause they are faster than their for loop variants. Run the next cell and look at the time difference. You'll most probably see that the comprehension is nearly twice as fast as the doubly nested loop."
   ]
  },
  {
   "cell_type": "code",
   "execution_count": 2,
   "metadata": {},
   "outputs": [
    {
     "name": "stdout",
     "output_type": "stream",
     "text": [
      "Loop :  15.112850335000076\n",
      "List Comprehension :  7.895465900999625\n"
     ]
    }
   ],
   "source": [
    "import timeit\n",
    "\n",
    "programs = {\n",
    "    \"Loop : \" : \"\"\"\n",
    "result = []\n",
    "for i in range(200):\n",
    "    result.append(i * 2)\n",
    "\"\"\",\n",
    "    \"List Comprehension : \" : 'result = [i * 2 for i in range(200)]',\n",
    "}\n",
    "\n",
    "for technique, code in programs.items():\n",
    "    print(technique, timeit.Timer(stmt=code).timeit())"
   ]
  },
  {
   "cell_type": "markdown",
   "metadata": {
    "collapsed": true
   },
   "source": [
    "### List Comprehension for Nested Loops"
   ]
  },
  {
   "cell_type": "code",
   "execution_count": 24,
   "metadata": {},
   "outputs": [
    {
     "name": "stdout",
     "output_type": "stream",
     "text": [
      "[0, 0, 0, 0, 0, 1, 1, 1, 1, 1, 4, 4, 4, 4, 4, 9, 9, 9, 9, 9]\n"
     ]
    }
   ],
   "source": [
    "b = [i ** 2 for i in range(0, 4) for j in range(0, 5)]\n",
    "print(b)"
   ]
  },
  {
   "cell_type": "markdown",
   "metadata": {},
   "source": [
    "### Rookie Mistake\n",
    "\n",
    "Let us consider the list comprehension above. A common mistake is to write the inner loops before it's encapsulating loop. Like so : "
   ]
  },
  {
   "cell_type": "code",
   "execution_count": 23,
   "metadata": {},
   "outputs": [
    {
     "name": "stdout",
     "output_type": "stream",
     "text": [
      "[0, 1, 4, 9, 0, 1, 4, 9, 0, 1, 4, 9, 0, 1, 4, 9, 0, 1, 4, 9]\n"
     ]
    }
   ],
   "source": [
    "c = [i ** 2 for j in range(0, 5) for i in range(0, 4)]\n",
    "print(c)"
   ]
  },
  {
   "cell_type": "markdown",
   "metadata": {},
   "source": [
    "#### So, remember --> Left to right, outer to inner.........."
   ]
  },
  {
   "cell_type": "code",
   "execution_count": 27,
   "metadata": {},
   "outputs": [
    {
     "name": "stdout",
     "output_type": "stream",
     "text": [
      "[3, 4, 7, 8, 5, 8, 9, 13, 14, 21]\n"
     ]
    }
   ],
   "source": [
    "d = [i + j ** 2 + k ** 3 for i in range(0, 5) for j in range(0, i) for k in range(0, j)]\n",
    "print(d)"
   ]
  },
  {
   "cell_type": "markdown",
   "metadata": {},
   "source": [
    "I would strongly encourage you to think directly in terms of list comprehension rather than constructing the nested loop structure first and then convert to comprehension."
   ]
  },
  {
   "cell_type": "markdown",
   "metadata": {},
   "source": [
    "Also, the `new_value` can be anything Python type. It need not maintain the type of the list from which the new one is being constructed. Let us look at how the star program can be done via comprehension."
   ]
  },
  {
   "cell_type": "code",
   "execution_count": 7,
   "metadata": {},
   "outputs": [
    {
     "name": "stdout",
     "output_type": "stream",
     "text": [
      "*\n",
      "**\n",
      "***\n",
      "****\n",
      "*****\n"
     ]
    }
   ],
   "source": [
    "a = [['*' for j in range(0, i)] for i in range(1, 6)]\n",
    "\n",
    "for sublist in a:\n",
    "    for j in sublist:\n",
    "        print(j, end='')\n",
    "    print()"
   ]
  },
  {
   "cell_type": "markdown",
   "metadata": {},
   "source": [
    "#### So, why keep loops at all ?"
   ]
  },
  {
   "cell_type": "markdown",
   "metadata": {},
   "source": [
    "It's cause when a bunch of statements are to be executed in an iterative construct then it maybe impossible to do in a list comprehension. List comprehension/Generator Expression is for creating a new iterable from an existing one. What if you need to print stuff, do something with list elements that doesn't involve making a new iterable, etc ?\n",
    "\n",
    "Then list comprehension doesn't make sense cause that's not what it was designed for."
   ]
  },
  {
   "cell_type": "markdown",
   "metadata": {},
   "source": [
    "#### Readability\n",
    "\n",
    "     It's important to make sure that your code is readable and able to be understood by other developers. We will elaborate on this later on whilst talking about PEP8 and good development practices. "
   ]
  },
  {
   "cell_type": "code",
   "execution_count": 29,
   "metadata": {},
   "outputs": [
    {
     "name": "stdout",
     "output_type": "stream",
     "text": [
      "[2, 6]\n",
      "[2, 6]\n",
      "[3, 4, 7, 8, 5, 8, 9, 13, 14, 21]\n",
      "[3, 4, 7, 8, 5, 8, 9, 13, 14, 21]\n"
     ]
    }
   ],
   "source": [
    "a = [i * 2 for i in range(0, 5) if i % 2 == 1]\n",
    "\n",
    "b = [\n",
    "    i * 2\n",
    "    for i in range(0, 5)\n",
    "    if i % 2 == 1\n",
    "]\n",
    "\n",
    "##############################################\n",
    "c = [i + j ** 2 + k ** 3 for i in range(0, 5) for j in range(0, i) for k in range(0, j)]\n",
    "\n",
    "d = [\n",
    "    i + j ** 2 + k ** 3\n",
    "    for i in range(0, 5)\n",
    "    for j in range(0, i)\n",
    "    for k in range(0, j)\n",
    "]\n",
    "\n",
    "print(a)\n",
    "print(b)\n",
    "print(c)\n",
    "print(d)"
   ]
  },
  {
   "cell_type": "markdown",
   "metadata": {},
   "source": [
    "## Dictionaries"
   ]
  },
  {
   "cell_type": "markdown",
   "metadata": {},
   "source": [
    "Dictionaries in Python, are like Hash Maps or Associative Arrays. It is an iterable of key-value pairs. Obviously it is a mutable type.\n",
    "\n",
    "So, why can't we instead have a list of tuples where every tuple is (key, value) ?\n",
    "\n",
    "That's because the search/indexing operation will be really slow, that is linear time. Whereas for dictionary it is ideally constant time."
   ]
  },
  {
   "cell_type": "markdown",
   "metadata": {},
   "source": [
    "### Construction"
   ]
  },
  {
   "cell_type": "code",
   "execution_count": 58,
   "metadata": {},
   "outputs": [
    {
     "name": "stdout",
     "output_type": "stream",
     "text": [
      "{}\n",
      "{'four': 4, 'three': 3, 'five': 5, 'two': 2, 'one': 1}\n",
      "{'four': 4, 'three': 3, 'five': 5, 'two': 2, 'one': 1}\n",
      "{'four': 4, 'three': 3, 'five': 5, 'two': 2, 'one': 1}\n",
      "{'four': 4, 'three': 3, 'five': 5, 'two': 2, 'one': 1}\n",
      "{'four': 4, 'three': 3, 'five': 5, 'two': 2, 'one': 1}\n"
     ]
    }
   ],
   "source": [
    "# Empty dictionary\n",
    "dict1 = {}\n",
    "\n",
    "# Comma separated list\n",
    "dict2 = {\"one\" : 1, \"two\" : 2, \"three\" : 3, \"four\" : 4, \"five\" : 5}\n",
    "\n",
    "# Using constructor(arguments as key = value pairs)\n",
    "dict3 = dict(one=1, two=2, three=3, four=4, five=5)\n",
    "\n",
    "# Using nested iterables\n",
    "dict4 = dict([(\"one\", 1), (\"two\", 2), (\"three\", 3), (\"four\", 4), (\"five\", 5)])\n",
    "dict5 = dict([[\"one\", 1], [\"two\", 2], [\"three\", 3], [\"four\", 4], [\"five\", 5]])\n",
    "\n",
    "# Using separate iterables\n",
    "dict6 = dict(zip([\"one\", \"two\", \"three\", \"four\", \"five\"], [1, 2, 3, 4, 5]))\n",
    "\n",
    "print(dict1)\n",
    "print(dict2)\n",
    "print(dict3)\n",
    "print(dict4)\n",
    "print(dict5)\n",
    "print(dict6)\n"
   ]
  },
  {
   "cell_type": "markdown",
   "metadata": {},
   "source": [
    "You can see that dictionaries aren't sorted by key or value."
   ]
  },
  {
   "cell_type": "markdown",
   "metadata": {},
   "source": [
    "### Searching in Dictionaries"
   ]
  },
  {
   "cell_type": "code",
   "execution_count": 65,
   "metadata": {},
   "outputs": [
    {
     "name": "stdout",
     "output_type": "stream",
     "text": [
      "5\n",
      "5\n"
     ]
    }
   ],
   "source": [
    "value1 = dict6['five']\n",
    "print(value1)\n",
    "\n",
    "# Throws an error. Better to use get() method\n",
    "value1 = dict6['five']\n",
    "print(value1)"
   ]
  },
  {
   "cell_type": "code",
   "execution_count": 67,
   "metadata": {},
   "outputs": [
    {
     "name": "stdout",
     "output_type": "stream",
     "text": [
      "None\n",
      "<class 'NoneType'>\n"
     ]
    }
   ],
   "source": [
    "value2 = dict6.get(\"six\", None)\n",
    "print(value2)\n",
    "print(type(value2))"
   ]
  },
  {
   "cell_type": "markdown",
   "metadata": {},
   "source": [
    "Various methods exist for dictionaries : \n",
    "1. get()\n",
    "2. items()\n",
    "3. copy()\n",
    "4. del\n",
    ".......\n",
    "\n",
    "Look at this link for more : https://jeffknupp.com/blog/2015/08/30/python-dictionaries/"
   ]
  },
  {
   "cell_type": "markdown",
   "metadata": {},
   "source": [
    "## Short in-class Assignment"
   ]
  },
  {
   "cell_type": "markdown",
   "metadata": {},
   "source": [
    "Construct Pascal's triangle for a given number of lines. Just print a space between numbers, don't worry about other spaces. The main construction of the values per line should be done via list comprehension.\n",
    "\n",
    "For example\n",
    "-------------\n",
    "\n",
    "Input : 7\n",
    "\n",
    "Output :\n",
    "\n",
    "1  \n",
    "1 1  \n",
    "1 2 1  \n",
    "1 3 3 1  \n",
    "1 4 6 4 1  \n",
    "1 5 10 10 5 1  \n",
    "1 6 15 20 15 6 1  "
   ]
  },
  {
   "cell_type": "code",
   "execution_count": 73,
   "metadata": {},
   "outputs": [
    {
     "name": "stdout",
     "output_type": "stream",
     "text": [
      "1 \n",
      "1 1 \n",
      "1 2 1 \n",
      "1 3 3 1 \n",
      "1 4 6 4 1 \n",
      "1 5 10 10 5 1 \n",
      "1 6 15 20 15 6 1 \n"
     ]
    }
   ],
   "source": [
    "from math import factorial\n",
    "\n",
    "height = 7\n",
    "lst = [[int(factorial(n) / (factorial(k) * factorial(n - k))) for k in range(n+1)]\n",
    "  for n in range(height)]\n",
    "\n",
    "for sublist in lst:\n",
    "    for value in sublist:\n",
    "        print(value, end=' ')\n",
    "    print()"
   ]
  },
  {
   "cell_type": "code",
   "execution_count": 1,
   "metadata": {},
   "outputs": [
    {
     "data": {
      "text/plain": [
       "[[], ['x'], ['x', 'x'], ['x', 'x', 'x'], ['x', 'x', 'x', 'x']]"
      ]
     },
     "execution_count": 1,
     "metadata": {},
     "output_type": "execute_result"
    }
   ],
   "source": [
    "[[\"x\" for j in range(0, i)] for i in range(0, 5)]"
   ]
  },
  {
   "cell_type": "code",
   "execution_count": 4,
   "metadata": {},
   "outputs": [
    {
     "name": "stdout",
     "output_type": "stream",
     "text": [
      "0\n",
      "1\n",
      "1\n",
      "2\n",
      "3\n",
      "5\n",
      "8\n"
     ]
    }
   ],
   "source": [
    "a0 = 0\n",
    "a1 = 1\n",
    "\n",
    "print(a0)\n",
    "print(a1)\n",
    "for i in range(0, 5):\n",
    "    print(a0 + a1)\n",
    "    temp = a1\n",
    "    a1 = a0 + a1\n",
    "    a0 = temp\n",
    "    "
   ]
  },
  {
   "cell_type": "code",
   "execution_count": null,
   "metadata": {
    "collapsed": true
   },
   "outputs": [],
   "source": []
  }
 ],
 "metadata": {
  "kernelspec": {
   "display_name": "Python 3",
   "language": "python",
   "name": "python3"
  },
  "language_info": {
   "codemirror_mode": {
    "name": "ipython",
    "version": 3
   },
   "file_extension": ".py",
   "mimetype": "text/x-python",
   "name": "python",
   "nbconvert_exporter": "python",
   "pygments_lexer": "ipython3",
   "version": "3.5.2"
  }
 },
 "nbformat": 4,
 "nbformat_minor": 2
}
